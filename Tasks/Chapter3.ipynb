{
 "cells": [
  {
   "cell_type": "code",
   "execution_count": 3,
   "id": "5d13453e-e949-494e-a84b-b4d24d60a5a5",
   "metadata": {},
   "outputs": [],
   "source": [
    "# 3.1.7\n",
    "def lin_comb(vlist,clist):\n",
    "    return sum([v*a for v,a in zip(vlist,clist)])"
   ]
  },
  {
   "cell_type": "code",
   "execution_count": 15,
   "id": "85a06156-ac87-4c61-a6af-6300dc67007b",
   "metadata": {},
   "outputs": [
    {
     "data": {
      "text/plain": [
       "0.75"
      ]
     },
     "execution_count": 15,
     "metadata": {},
     "output_type": "execute_result"
    }
   ],
   "source": [
    "lin_comb([2,3.5],[0.2,0.1,0.4])"
   ]
  },
  {
   "cell_type": "code",
   "execution_count": 17,
   "id": "e7dec36c-e675-4140-9656-36d5d6d9ac36",
   "metadata": {},
   "outputs": [],
   "source": [
    "from GF2 import one"
   ]
  },
  {
   "cell_type": "code",
   "execution_count": 23,
   "id": "90946458-85c0-4d6c-afb6-8e1f2955e491",
   "metadata": {},
   "outputs": [],
   "source": [
    "def multiVector(alpha , v):\n",
    "    return [alpha*i for i in v]"
   ]
  },
  {
   "cell_type": "code",
   "execution_count": 31,
   "id": "71a421d1-1e8b-45ef-bba4-44a81154b375",
   "metadata": {},
   "outputs": [],
   "source": [
    "def addVec(y,x):\n",
    "    return [i+j for i,j in zip(y,x)]"
   ]
  },
  {
   "cell_type": "code",
   "execution_count": 33,
   "id": "5d678ab5-1980-4695-afe0-fc23f3d17614",
   "metadata": {},
   "outputs": [
    {
     "data": {
      "text/plain": [
       "[one, 0, 0, one]"
      ]
     },
     "execution_count": 33,
     "metadata": {},
     "output_type": "execute_result"
    }
   ],
   "source": [
    "# 3.1.10\n",
    "s = [one,0,0,one]\n",
    "\n",
    "dice1 = [one,one,one,0]\n",
    "\n",
    "dice2 = [one,one,0,one]\n",
    "\n",
    "dice3 = [one,0,one,one]\n",
    "\n",
    "dice4 = [0,one,one,one]\n",
    "\n",
    "addVec(addVec(multiVector(one,dice1) ,multiVector(0,dice2) ) , addVec(multiVector(0,dice3) ,multiVector(one,dice4) ))"
   ]
  },
  {
   "cell_type": "code",
   "execution_count": null,
   "id": "e803c775-ceb0-48d8-b912-04c5db77365f",
   "metadata": {},
   "outputs": [],
   "source": []
  },
  {
   "cell_type": "code",
   "execution_count": null,
   "id": "4cfc78ca-5b54-45d0-a13c-8aebeec72b63",
   "metadata": {},
   "outputs": [],
   "source": []
  }
 ],
 "metadata": {
  "kernelspec": {
   "display_name": "Python 3",
   "language": "python",
   "name": "python3"
  },
  "language_info": {
   "codemirror_mode": {
    "name": "ipython",
    "version": 3
   },
   "file_extension": ".py",
   "mimetype": "text/x-python",
   "name": "python",
   "nbconvert_exporter": "python",
   "pygments_lexer": "ipython3",
   "version": "3.9.2"
  }
 },
 "nbformat": 4,
 "nbformat_minor": 5
}

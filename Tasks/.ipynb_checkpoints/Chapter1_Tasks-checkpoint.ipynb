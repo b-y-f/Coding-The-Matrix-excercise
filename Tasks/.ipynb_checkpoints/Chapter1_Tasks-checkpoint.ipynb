{
 "cells": [
  {
   "cell_type": "code",
   "execution_count": 16,
   "id": "0f51e50b-a75a-4622-a0d4-bef4df925e30",
   "metadata": {},
   "outputs": [],
   "source": [
    "# 1.4.1\n",
    "from plotting import plot\n",
    "\n",
    "S = {2 + 2j,3 + 2j, 1.75 + 1j,2 + 1j, 2.25 +1j, 2.5 + 1j, 2.75 + 1j,3 + 1j, 3.25 + 1j}\n",
    "plot(S)"
   ]
  },
  {
   "cell_type": "code",
   "execution_count": 2,
   "id": "f0d97496-6761-4de8-a85f-dfe7ec65ff87",
   "metadata": {},
   "outputs": [],
   "source": [
    "# 1.4.7\n",
    "myScaledPoints={z/2 for z in S}\n",
    "plot(myScaledPoints,4)"
   ]
  },
  {
   "cell_type": "code",
   "execution_count": 41,
   "id": "0235cf3e-33fd-4cf3-acfc-13633a71e096",
   "metadata": {},
   "outputs": [],
   "source": [
    "# 1.4.8\n",
    "rotate90half = { z*0.5j for z in S}\n",
    "plot(rotate90half,4)"
   ]
  },
  {
   "cell_type": "code",
   "execution_count": 95,
   "id": "82215b44-f416-491d-8f0c-84903b074fac",
   "metadata": {},
   "outputs": [],
   "source": [
    "# 1.4.9\n",
    "# rotate90halfShift = {(z-2-4j)*0.5j for z in S}\n",
    "rotate90halfShift = {0.5j*z-1j+2 for z in S}\n",
    "plot(rotate90halfShift,4)"
   ]
  },
  {
   "cell_type": "code",
   "execution_count": 3,
   "id": "4468ca13-f8b0-4664-b149-04ca1e7d5e11",
   "metadata": {},
   "outputs": [],
   "source": [
    "from image import file2image\n",
    "data = file2image('img01.png')"
   ]
  },
  {
   "cell_type": "code",
   "execution_count": 4,
   "id": "180cfc7a-c7b9-46fa-babf-372ffe6ed3bb",
   "metadata": {},
   "outputs": [],
   "source": [
    "# 1.4.10\n",
    "width = len(data) #189\n",
    "length = len(data[0]) #166\n",
    "\n",
    "pointImg = {x-(y-width)*1j for x in range(length) for y in range(width) for p in data[y][x] if p <120 } \n",
    "plot(pointImg,width)"
   ]
  },
  {
   "cell_type": "code",
   "execution_count": 5,
   "id": "48763ccc-e5b4-42ae-8560-71631bab8b65",
   "metadata": {},
   "outputs": [],
   "source": [
    "# 1.4.11\n",
    "def center(z):\n",
    "    cent = sum(z)/len(z)\n",
    "    return {i-cent for i in z}\n",
    "plot(center(pointImg),width)"
   ]
  },
  {
   "cell_type": "code",
   "execution_count": 6,
   "id": "b437b5ae-9507-4d47-b4ea-d4a7808007d7",
   "metadata": {},
   "outputs": [],
   "source": [
    "# 1.4.12\n",
    "rotateImage = { z*0.5j for z in pointImg}\n",
    "plot(rotateImage,width)"
   ]
  },
  {
   "cell_type": "code",
   "execution_count": 25,
   "id": "2db3e24b-49a6-4f13-9e8f-e3c1a12d5d91",
   "metadata": {},
   "outputs": [],
   "source": [
    "# 1.4.17\n",
    "from math import e,pi\n",
    "eluer = [e**(2*pi*1j*x/20) for x in range(20)]\n",
    "plot(eluer)"
   ]
  },
  {
   "cell_type": "code",
   "execution_count": 37,
   "id": "8c6331c2-5786-4784-a798-6524aff8da2e",
   "metadata": {},
   "outputs": [],
   "source": [
    "# 1.4.18\n",
    "ro45 = {x*e**(0.25*pi*1j) for x in S}\n",
    "plot(ro45)"
   ]
  },
  {
   "cell_type": "code",
   "execution_count": 38,
   "id": "73be4147-ac5d-4ae1-b4de-6b42f3b4837d",
   "metadata": {},
   "outputs": [],
   "source": [
    "# 1.4.19\n",
    "rotateImage2 = {x*e**(0.25*pi*1j) for x in pointImg}\n",
    "plot(rotateImage2,width)"
   ]
  },
  {
   "cell_type": "code",
   "execution_count": null,
   "id": "d131e78e-f7d5-4d5e-85d9-72c0014463db",
   "metadata": {},
   "outputs": [],
   "source": [
    "# 1.5.1\n",
    "# TODO"
   ]
  }
 ],
 "metadata": {
  "kernelspec": {
   "display_name": "Python 3",
   "language": "python",
   "name": "python3"
  },
  "language_info": {
   "codemirror_mode": {
    "name": "ipython",
    "version": 3
   },
   "file_extension": ".py",
   "mimetype": "text/x-python",
   "name": "python",
   "nbconvert_exporter": "python",
   "pygments_lexer": "ipython3",
   "version": "3.9.2"
  }
 },
 "nbformat": 4,
 "nbformat_minor": 5
}

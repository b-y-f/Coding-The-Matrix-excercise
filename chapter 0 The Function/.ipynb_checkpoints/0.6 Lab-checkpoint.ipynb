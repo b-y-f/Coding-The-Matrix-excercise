{
 "cells": [
  {
   "cell_type": "code",
   "execution_count": null,
   "id": "0878e699-55b7-46b0-910a-dab2a55fbbd4",
   "metadata": {},
   "outputs": [],
   "source": [
    "# 1\n",
    "import math"
   ]
  },
  {
   "cell_type": "code",
   "execution_count": 7,
   "id": "eab51c7a-d95d-49d7-97ff-920f8512a83f",
   "metadata": {},
   "outputs": [
    {
     "data": {
      "text/plain": [
       "2.9999999999999996"
      ]
     },
     "execution_count": 7,
     "metadata": {},
     "output_type": "execute_result"
    }
   ],
   "source": [
    "math.pow(math.sqrt(3),2)"
   ]
  },
  {
   "cell_type": "code",
   "execution_count": 9,
   "id": "9fe989e0-66d7-40e6-b380-86327d8f20d9",
   "metadata": {},
   "outputs": [
    {
     "ename": "ValueError",
     "evalue": "math domain error",
     "output_type": "error",
     "traceback": [
      "\u001b[1;31m---------------------------------------------------------------------------\u001b[0m",
      "\u001b[1;31mValueError\u001b[0m                                Traceback (most recent call last)",
      "\u001b[1;32m<ipython-input-9-2037b8d41d70>\u001b[0m in \u001b[0;36m<module>\u001b[1;34m\u001b[0m\n\u001b[1;32m----> 1\u001b[1;33m \u001b[0mmath\u001b[0m\u001b[1;33m.\u001b[0m\u001b[0msqrt\u001b[0m\u001b[1;33m(\u001b[0m\u001b[1;33m-\u001b[0m\u001b[1;36m1\u001b[0m\u001b[1;33m)\u001b[0m\u001b[1;33m\u001b[0m\u001b[1;33m\u001b[0m\u001b[0m\n\u001b[0m",
      "\u001b[1;31mValueError\u001b[0m: math domain error"
     ]
    }
   ],
   "source": [
    "math.sqrt(-1)"
   ]
  },
  {
   "cell_type": "code",
   "execution_count": 12,
   "id": "a0a60d2e-7295-4fd4-b0f3-6cc0f6b89c99",
   "metadata": {},
   "outputs": [
    {
     "data": {
      "text/plain": [
       "-1.0"
      ]
     },
     "execution_count": 12,
     "metadata": {},
     "output_type": "execute_result"
    }
   ],
   "source": [
    "math.cos(math.pi)"
   ]
  },
  {
   "cell_type": "code",
   "execution_count": 13,
   "id": "60c16a00-907f-4bc8-a06d-bdcd0d941bfa",
   "metadata": {},
   "outputs": [
    {
     "data": {
      "text/plain": [
       "1.0"
      ]
     },
     "execution_count": 13,
     "metadata": {},
     "output_type": "execute_result"
    }
   ],
   "source": [
    "math.log(math.e)"
   ]
  },
  {
   "cell_type": "code",
   "execution_count": 22,
   "id": "9779df6f-0930-4cff-b66c-9cb11946c5f3",
   "metadata": {},
   "outputs": [
    {
     "data": {
      "text/plain": [
       "['A gem!']"
      ]
     },
     "execution_count": 22,
     "metadata": {},
     "output_type": "execute_result"
    }
   ],
   "source": [
    "#2 \n",
    "from random import randint\n",
    "def movie_view(name):return [['See it!','A gem!','clap'][randint(0,len(['See it!','A gem!','clap'])-1)]]\n",
    "movie_view('fg')"
   ]
  },
  {
   "cell_type": "code",
   "execution_count": 9,
   "id": "adb0a6c1-0c6c-4188-9a8c-25f58fab9ee6",
   "metadata": {},
   "outputs": [],
   "source": [
    "#3 \n",
    "import dictutil"
   ]
  },
  {
   "cell_type": "code",
   "execution_count": 10,
   "id": "05007732-8c2a-40f8-853c-1cab97c9f8ae",
   "metadata": {},
   "outputs": [
    {
     "data": {
      "text/plain": [
       "{0: 1, 1: 4, 2: 63, 3: 23, 4: 324}"
      ]
     },
     "execution_count": 10,
     "metadata": {},
     "output_type": "execute_result"
    }
   ],
   "source": [
    "#4\n",
    "from imp import reload\n",
    "reload(dictutil)\n",
    "listrange2dict([1,4,63,23,324])"
   ]
  },
  {
   "cell_type": "code",
   "execution_count": 41,
   "id": "ec1bea02-71cc-402e-b319-053abd7061e4",
   "metadata": {},
   "outputs": [],
   "source": [
    "#6\n",
    "f = open('stories_big.txt')\n",
    "stories = list(f)\n",
    "def makeInverseIndex(strlist):\n",
    "    dct = dict()\n",
    "    \n",
    "    for i,j in enumerate(strlist):\n",
    "        for k in j.lower().split():\n",
    "            if k in dct:\n",
    "                dct[k].add(i)\n",
    "            else:\n",
    "                dct[k] = set()\n",
    "    return dct\n",
    "\n",
    "\n",
    "saveII = makeInverseIndex(stories)"
   ]
  },
  {
   "cell_type": "code",
   "execution_count": 43,
   "id": "b0350459-81c6-433f-b07a-115784d1e0c7",
   "metadata": {},
   "outputs": [
    {
     "data": {
      "text/plain": [
       "[{'disneyland': {5, 49, 312, 486, 630}}]"
      ]
     },
     "execution_count": 43,
     "metadata": {},
     "output_type": "execute_result"
    }
   ],
   "source": [
    "#7\n",
    "def orSearch(inv,query):\n",
    "    return [{x:inv[x]} for x in query]\n",
    "\n",
    "orSearch(saveII,['disneyland'])"
   ]
  },
  {
   "cell_type": "code",
   "execution_count": 96,
   "id": "41edc411-fc0f-4e33-9931-fe47767dd3ce",
   "metadata": {},
   "outputs": [
    {
     "data": {
      "text/plain": [
       "{534, 756}"
      ]
     },
     "execution_count": 96,
     "metadata": {},
     "output_type": "execute_result"
    }
   ],
   "source": [
    "#8\n",
    "def andSearch(inv,q):\n",
    "    \n",
    "    for k in q:\n",
    "        if k not in inv:\n",
    "            return \"................\"\n",
    "\n",
    "    result = set(inv[q[0]])\n",
    "    for i in q[1:]:\n",
    "        result &= inv[i]\n",
    "\n",
    "    return result\n",
    "\n",
    "andSearch(saveII,['thank','well','god'])"
   ]
  }
 ],
 "metadata": {
  "kernelspec": {
   "display_name": "Python 3",
   "language": "python",
   "name": "python3"
  },
  "language_info": {
   "codemirror_mode": {
    "name": "ipython",
    "version": 3
   },
   "file_extension": ".py",
   "mimetype": "text/x-python",
   "name": "python",
   "nbconvert_exporter": "python",
   "pygments_lexer": "ipython3",
   "version": "3.9.2"
  }
 },
 "nbformat": 4,
 "nbformat_minor": 5
}

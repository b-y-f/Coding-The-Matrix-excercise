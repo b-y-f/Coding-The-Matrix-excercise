{
 "cells": [
  {
   "cell_type": "code",
   "execution_count": null,
   "id": "7874614d-b138-402a-bb65-88fd65de1f07",
   "metadata": {},
   "outputs": [],
   "source": [
    "# 2.3.2\n",
    "from plotting import plot\n",
    "L = [[2, 2], [3, 2], [1.75, 1], [2, 1], [2.25, 1], [2.5, 1], [2.75,1], [3, 1], [3.25, 1]]\n",
    "plot(L,4)"
   ]
  },
  {
   "cell_type": "code",
   "execution_count": null,
   "id": "1d6b338c-134d-4a6e-8015-f47dbc70fd30",
   "metadata": {},
   "outputs": [],
   "source": [
    "# 2.3.3\n",
    "def add2(a,b):\n",
    "    return [a[i]+b[i] for i in range(len(a))]\n",
    "\n",
    "plot([add2(v, [1,2]) for v in L], 4)"
   ]
  },
  {
   "cell_type": "code",
   "execution_count": null,
   "id": "7a0268df-7589-4e33-9484-238f5074927d",
   "metadata": {},
   "outputs": [],
   "source": [
    "# 2.4.6\n",
    "import numpy as np\n",
    "import matplotlib.pyplot as plt\n",
    "x_position = [0,-1]\n",
    "y_position = [0,-1]\n",
    "x_direction = [-2,-2]\n",
    "y_direction = [4,4]\n",
    "fig, ax = plt.subplots(figsize = (8,8))\n",
    "ax.quiver(x_position, y_position, x_direction, y_direction, scale = 8)\n",
    "ax.axis([-4, 4, -4, 4])\n",
    "plt.grid(True)\n",
    "plt.show()"
   ]
  },
  {
   "cell_type": "code",
   "execution_count": null,
   "id": "7c6a15d0-e005-48fa-a538-82e4ca1b1e53",
   "metadata": {},
   "outputs": [],
   "source": [
    "# 2.4.7\n",
    "x_position = [0,-1,0]\n",
    "y_position = [0,2,0]\n",
    "x_direction = [-2,1,-1]\n",
    "y_direction = [4,2,6]\n",
    "fig, ax = plt.subplots(figsize = (8,8))\n",
    "ax.quiver(x_position, y_position, x_direction, y_direction, scale = 16)\n",
    "ax.axis([-4, 4, -4, 4])\n",
    "plt.grid(True)\n",
    "plt.show()"
   ]
  },
  {
   "cell_type": "code",
   "execution_count": null,
   "id": "555086c2-901f-4068-b03a-689839a7cf56",
   "metadata": {},
   "outputs": [],
   "source": [
    "# 2.5.4\n",
    "def scaleVector(alpha,v):\n",
    "    return [alpha*i for i in v]"
   ]
  },
  {
   "cell_type": "code",
   "execution_count": null,
   "id": "77fad30d-c8ca-4825-985f-f25f2d8e66f8",
   "metadata": {},
   "outputs": [],
   "source": [
    "plot([scaleVector(0.5, i) for i in L])"
   ]
  },
  {
   "cell_type": "code",
   "execution_count": null,
   "id": "a0c4271b-f0f1-4c0a-a43c-0abcd08c6585",
   "metadata": {},
   "outputs": [],
   "source": [
    "plot([scaleVector(-0.5, i) for i in L])"
   ]
  },
  {
   "cell_type": "raw",
   "id": "dc0f9834-78b6-4fa2-a6c0-ee1b13e4caa5",
   "metadata": {},
   "source": [
    "# 2.6.1\n",
    "\n",
    "[3,4]\n",
    "[2,3]"
   ]
  },
  {
   "cell_type": "raw",
   "id": "95407675-61ba-4a67-b841-116926d0bac1",
   "metadata": {},
   "source": [
    "# 2.6.2\n",
    "\n",
    "line_segment =  u*a + v (a belong to real number 0<a<1)"
   ]
  },
  {
   "cell_type": "code",
   "execution_count": null,
   "id": "eb7ccc26-13e5-4781-9aa4-2b89f1e63bef",
   "metadata": {},
   "outputs": [],
   "source": [
    "# 2.6.9\n",
    "def segment(pt1,pt2):\n",
    "    return [add2(scaleVector(i/100,pt1),pt2) for i in range(101)]\n",
    "    \n",
    "plot(segment([3.5,3],[0.5,1]),4)"
   ]
  },
  {
   "cell_type": "code",
   "execution_count": null,
   "id": "6a4d3419-82d9-42bb-b173-a8e837069f81",
   "metadata": {},
   "outputs": [],
   "source": [
    "class Vec:\n",
    "    def __init__(self,labels,function):\n",
    "        self.D=labels\n",
    "        self.f=function"
   ]
  },
  {
   "cell_type": "code",
   "execution_count": null,
   "id": "e66a4839-5c98-412a-b20d-b0813bdefdd6",
   "metadata": {},
   "outputs": [],
   "source": [
    "v = Vec({'A','B','C'},{'A':1})"
   ]
  },
  {
   "cell_type": "code",
   "execution_count": null,
   "id": "365d10d5-b23b-40c8-9bc9-665d512b8c67",
   "metadata": {},
   "outputs": [],
   "source": [
    "def setitem(v,d,val):\n",
    "    v.f[d]=val\n",
    "setitem(v,'B',2.)"
   ]
  },
  {
   "cell_type": "code",
   "execution_count": null,
   "id": "d94cee5c-1a6d-4410-bb49-9bfbabf3fece",
   "metadata": {},
   "outputs": [],
   "source": [
    "# 2.7.1\n",
    "def zero_vec(D):\n",
    "    return Vec(D,{d:0. for d in D})"
   ]
  },
  {
   "cell_type": "code",
   "execution_count": null,
   "id": "1a6b1d7e-d43a-4332-8499-acbce24a2f17",
   "metadata": {},
   "outputs": [],
   "source": [
    "#2.7.2\n",
    "def getitem(v,d):\n",
    "    return v.f[d] if d in v.f else 0\n",
    "        \n",
    "getitem(v,'A')"
   ]
  },
  {
   "cell_type": "code",
   "execution_count": null,
   "id": "875567e4-6876-49ed-a4b4-c11b052824e0",
   "metadata": {},
   "outputs": [],
   "source": [
    "#2.7.3\n",
    "def scalar_mul(v,alpha):\n",
    "    return Vec(v.D,{i:alpha*j for i,j in v.f.items()})\n",
    "    \n",
    "scalar_mul(v,2).f"
   ]
  },
  {
   "cell_type": "code",
   "execution_count": null,
   "id": "61b59597-4528-406f-b9d3-4a94da4457d1",
   "metadata": {},
   "outputs": [],
   "source": [
    "# 2.7.4\n",
    "def add(u,v):\n",
    "    return Vec(u.D,{d:getitem(u,d)+getitem(v,d) for d in u.D })\n",
    "\n",
    "u=Vec(v.D,{'A':5.,'C':10.})\n",
    "add(u,v).f"
   ]
  },
  {
   "cell_type": "code",
   "execution_count": null,
   "id": "54a703ff-2c81-4b38-b98c-0a2c123bf8b6",
   "metadata": {},
   "outputs": [],
   "source": [
    "# 2.7.5\n",
    "def neg(v):\n",
    "    return scalar_mul(v,-1)\n",
    "neg(v).f"
   ]
  },
  {
   "cell_type": "markdown",
   "id": "59e34a0d-a87f-4541-a4dc-15673b549551",
   "metadata": {},
   "source": [
    "# 2.1.2 lab "
   ]
  },
  {
   "cell_type": "code",
   "execution_count": null,
   "id": "6caf1adf-7f42-4537-abdb-ea5471dd57d1",
   "metadata": {},
   "outputs": [],
   "source": [
    "f= open('voting_record_dump109.txt')\n",
    "mylist = list(f)"
   ]
  },
  {
   "cell_type": "code",
   "execution_count": null,
   "id": "8ddeb163-92f8-4a71-87af-eecb65741088",
   "metadata": {},
   "outputs": [],
   "source": [
    "# 2.12.1\n",
    "def create_voting_dict(strlist):\n",
    "    return {i.split()[0]:[int(j) for j in i.split()[3:]] for i in strlist}\n",
    "    \n",
    "voting_dict = create_voting_dict(mylist)"
   ]
  },
  {
   "cell_type": "code",
   "execution_count": null,
   "id": "078351b4-9319-456d-a15d-6d6399a71c1b",
   "metadata": {},
   "outputs": [],
   "source": [
    "# 2.12.2\n",
    "def policy_compare(sen_a,sen_b,voting_dict):\n",
    "    return sum([voting_dict[sen_a][i]*voting_dict[sen_b][i] for i in range(len(voting_dict[sen_a]))])"
   ]
  },
  {
   "cell_type": "code",
   "execution_count": null,
   "id": "30890e80-d6b6-48bc-a897-3cd9b4a23d0f",
   "metadata": {},
   "outputs": [],
   "source": [
    "# 2.12.3\n",
    "def most_similar(sen,voting_dict):\n",
    "    dct = {i:policy_compare(sen,i,voting_dict) for i in voting_dict if i!=sen}\n",
    "    return max(dct,key = dct.get)\n"
   ]
  },
  {
   "cell_type": "code",
   "execution_count": 539,
   "id": "989dccf0-beee-469e-afff-a18c4a8d1ba0",
   "metadata": {},
   "outputs": [],
   "source": [
    "# 2.12.4\n",
    "def least_similar(sen,voting_dict):\n",
    "    dct = {i:policy_compare(sen,i,voting_dict) for i in voting_dict if i!=sen}\n",
    "    name = min(dct,key = dct.get)\n",
    "    return name,dct[name]"
   ]
  },
  {
   "cell_type": "code",
   "execution_count": 530,
   "id": "cdb26490-6a94-4e03-a478-3ed80be6b17c",
   "metadata": {},
   "outputs": [
    {
     "data": {
      "text/plain": [
       "'Jeffords'"
      ]
     },
     "execution_count": 530,
     "metadata": {},
     "output_type": "execute_result"
    }
   ],
   "source": [
    "# 2.12.5\n",
    "# most like Chafee :\n",
    "most_similar('Chafee',voting_dict)"
   ]
  },
  {
   "cell_type": "code",
   "execution_count": 531,
   "id": "a0c68de8-5cb9-462c-99af-284977882434",
   "metadata": {},
   "outputs": [
    {
     "data": {
      "text/plain": [
       "('Feingold', 3)"
      ]
     },
     "execution_count": 531,
     "metadata": {},
     "output_type": "execute_result"
    }
   ],
   "source": [
    "# disagree Santorum:\n",
    "least_similar('Santorum',voting_dict)"
   ]
  },
  {
   "cell_type": "code",
   "execution_count": 488,
   "id": "f39a6323-984c-4857-a3d2-647d9da93a79",
   "metadata": {},
   "outputs": [],
   "source": [
    "# 2.12.6"
   ]
  },
  {
   "cell_type": "code",
   "execution_count": 489,
   "id": "12f0b8e7-a896-4f10-968d-16ba5b91d6ea",
   "metadata": {},
   "outputs": [],
   "source": [
    "democrat_set = {i.split()[0]:i.split()[1] for i in mylist if i.split()[1]=='D'}\n",
    "democrat_list = list(democrat_set.keys())"
   ]
  },
  {
   "cell_type": "code",
   "execution_count": 490,
   "id": "68c1c5a4-c68f-42e6-b71a-367744c16b29",
   "metadata": {},
   "outputs": [],
   "source": [
    "# 2.12.7\n",
    "def find_avg_similiarity(sen,sen_set,voting_dict):\n",
    "    return sum([policy_compare(sen,i,voting_dict) for i in sen_set])/len(sen_set)"
   ]
  },
  {
   "cell_type": "code",
   "execution_count": 491,
   "id": "6d4917a1-1af3-4c04-95d9-d9c7a0eb1b50",
   "metadata": {},
   "outputs": [
    {
     "name": "stdout",
     "output_type": "stream",
     "text": [
      "Biden 34.86046511627907\n"
     ]
    }
   ],
   "source": [
    "# greatest similiar\n",
    "avg_similar_rank = {i:find_avg_similiarity(i,democrat_list,voting_dict) for i in democrat_list}\n",
    "name = max(avg_similar_rank,key=avg_similar_rank.get)\n",
    "print(name,avg_similar_rank[name])"
   ]
  },
  {
   "cell_type": "code",
   "execution_count": 492,
   "id": "ebfae1d1-f481-4974-85d1-7029abc9aa4b",
   "metadata": {},
   "outputs": [],
   "source": [
    "def addn(v,w):return [v+w for v,w in zip(v,w)]"
   ]
  },
  {
   "cell_type": "code",
   "execution_count": 493,
   "id": "c787f8b4-6bf3-4c0b-8640-76bd5ae82436",
   "metadata": {},
   "outputs": [
    {
     "data": {
      "text/plain": [
       "[-0.16279069767441862,\n",
       " -0.23255813953488372,\n",
       " 1.0,\n",
       " 0.8372093023255814,\n",
       " 0.9767441860465116,\n",
       " -0.13953488372093023,\n",
       " -0.9534883720930233,\n",
       " 0.813953488372093,\n",
       " 0.9767441860465116,\n",
       " 0.9767441860465116,\n",
       " 0.9069767441860465,\n",
       " 0.7674418604651163,\n",
       " 0.6744186046511628,\n",
       " 0.9767441860465116,\n",
       " -0.5116279069767442,\n",
       " 0.9302325581395349,\n",
       " 0.9534883720930233,\n",
       " 0.9767441860465116,\n",
       " -0.3953488372093023,\n",
       " 0.9767441860465116,\n",
       " 1.0,\n",
       " 1.0,\n",
       " 1.0,\n",
       " 0.9534883720930233,\n",
       " -0.4883720930232558,\n",
       " 1.0,\n",
       " -0.32558139534883723,\n",
       " -0.06976744186046512,\n",
       " 0.9767441860465116,\n",
       " 0.8604651162790697,\n",
       " 0.9767441860465116,\n",
       " 0.9767441860465116,\n",
       " 1.0,\n",
       " 1.0,\n",
       " 0.9767441860465116,\n",
       " -0.3488372093023256,\n",
       " 0.9767441860465116,\n",
       " -0.4883720930232558,\n",
       " 0.23255813953488372,\n",
       " 0.8837209302325582,\n",
       " 0.4418604651162791,\n",
       " 0.9069767441860465,\n",
       " -0.9069767441860465,\n",
       " 1.0,\n",
       " 0.9069767441860465,\n",
       " -0.3023255813953488]"
      ]
     },
     "execution_count": 493,
     "metadata": {},
     "output_type": "execute_result"
    }
   ],
   "source": [
    "# 2.12.8\n",
    "def find_avg_record(sen_set,voting_dict):\n",
    "    avg_record = [0]*len(voting_dict['Akaka'])\n",
    "    for s in sen_set:\n",
    "        avg_record = addn(avg_record, voting_dict[s]) \n",
    "    return [i/len(sen_set) for i in avg_record]\n",
    "\n",
    "avg_Democrat_record = find_avg_record(democrat_list,voting_dict)\n",
    "avg_Democrat_record"
   ]
  },
  {
   "cell_type": "code",
   "execution_count": 494,
   "id": "22158e05-60e0-4f88-8e05-7b0d7b579c75",
   "metadata": {},
   "outputs": [],
   "source": [
    "def most_similar_record(record, voting_dict):\n",
    "    s = {k:sum([i*j for i,j in zip(avg_Democrat_record,voting_dict[k])]) for k in voting_dict.keys()}\n",
    "    return max(s, key=s.get)"
   ]
  },
  {
   "cell_type": "code",
   "execution_count": 495,
   "id": "4dd38e9c-e128-4570-a97e-4464c489bcc2",
   "metadata": {},
   "outputs": [
    {
     "data": {
      "text/plain": [
       "'Biden'"
      ]
     },
     "execution_count": 495,
     "metadata": {},
     "output_type": "execute_result"
    }
   ],
   "source": [
    "most_similar_record(avg_Democrat_record,voting_dict)"
   ]
  },
  {
   "cell_type": "code",
   "execution_count": 496,
   "id": "4d02a459-6ff8-4a82-b17e-be7a9e23b94d",
   "metadata": {},
   "outputs": [],
   "source": [
    "# because (a+b)x = ax + bx"
   ]
  },
  {
   "cell_type": "code",
   "execution_count": 540,
   "id": "cf636a1f-1e96-4769-ae8e-1b535341fbee",
   "metadata": {},
   "outputs": [
    {
     "data": {
      "text/plain": [
       "(('Inhofe', -3), 'Biden')"
      ]
     },
     "execution_count": 540,
     "metadata": {},
     "output_type": "execute_result"
    }
   ],
   "source": [
    "# 2.12.9\n",
    "def bitter_rivals(voting_dict):\n",
    "    sen = [i for i in voting_dict.keys()]\n",
    "    rival = {i:least_similar(i,voting_dict) for i in sen}\n",
    "    sen_name =min(rival, key = lambda x : rival[x][1])\n",
    "    return rival[sen_name],name\n",
    "\n",
    "bitter_rivals(voting_dict)"
   ]
  }
 ],
 "metadata": {
  "kernelspec": {
   "display_name": "Python 3",
   "language": "python",
   "name": "python3"
  },
  "language_info": {
   "codemirror_mode": {
    "name": "ipython",
    "version": 3
   },
   "file_extension": ".py",
   "mimetype": "text/x-python",
   "name": "python",
   "nbconvert_exporter": "python",
   "pygments_lexer": "ipython3",
   "version": "3.9.2"
  }
 },
 "nbformat": 4,
 "nbformat_minor": 5
}

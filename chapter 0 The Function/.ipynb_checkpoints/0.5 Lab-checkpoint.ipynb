{
 "cells": [
  {
   "cell_type": "code",
   "execution_count": 4,
   "id": "aeaa4ced-fc18-4728-9406-73aa92760bf8",
   "metadata": {},
   "outputs": [
    {
     "data": {
      "text/plain": [
       "{0, 6, 12, 24, 48}"
      ]
     },
     "execution_count": 4,
     "metadata": {},
     "output_type": "execute_result"
    }
   ],
   "source": [
    "# 0.5.8\n",
    "{x*y for x in {1,2,4} for y in {0,6,12}}"
   ]
  },
  {
   "cell_type": "code",
   "execution_count": 7,
   "id": "d91da7c4-93ba-49e4-b4b9-2e42c5eba3c2",
   "metadata": {},
   "outputs": [
    {
     "data": {
      "text/plain": [
       "{3, 4}"
      ]
     },
     "execution_count": 7,
     "metadata": {},
     "output_type": "execute_result"
    }
   ],
   "source": [
    "# 0.5.9\n",
    "S = {1,2,3,4}\n",
    "T = {3,4,5,6}\n",
    "{x for x in S for y in T if y==x }"
   ]
  },
  {
   "cell_type": "code",
   "execution_count": 9,
   "id": "9ced80b2-1f80-4f37-b8dd-052d4f8d71ec",
   "metadata": {},
   "outputs": [
    {
     "data": {
      "text/plain": [
       "30.0"
      ]
     },
     "execution_count": 9,
     "metadata": {},
     "output_type": "execute_result"
    }
   ],
   "source": [
    "# 0.5.10\n",
    "sum([20,10,15,75])/len([20,10,15,75])"
   ]
  },
  {
   "cell_type": "code",
   "execution_count": 11,
   "id": "50c95cee-0a75-47f8-a8c2-ab65976ee81a",
   "metadata": {},
   "outputs": [
    {
     "data": {
      "text/plain": [
       "[['A', 1],\n",
       " ['A', 2],\n",
       " ['A', 3],\n",
       " ['B', 1],\n",
       " ['B', 2],\n",
       " ['B', 3],\n",
       " ['C', 1],\n",
       " ['C', 2],\n",
       " ['C', 3]]"
      ]
     },
     "execution_count": 11,
     "metadata": {},
     "output_type": "execute_result"
    }
   ],
   "source": [
    "# 0.5.11\n",
    "[[x,y] for x in ['A','B','C'] for y in [1,2,3]]"
   ]
  },
  {
   "cell_type": "code",
   "execution_count": 19,
   "id": "dcca1fae-9681-40cb-9d3d-ef373604f3db",
   "metadata": {},
   "outputs": [
    {
     "data": {
      "text/plain": [
       "16.1"
      ]
     },
     "execution_count": 19,
     "metadata": {},
     "output_type": "execute_result"
    }
   ],
   "source": [
    "# 0.5.12\n",
    "LofL = [[.25,.75,.1],[-1,0],[4,4,4,4]]\n",
    "sum([sum(x) for x in LofL])"
   ]
  },
  {
   "cell_type": "code",
   "execution_count": 23,
   "id": "dec9a290-6c07-4e6e-b385-ef1118bd2e88",
   "metadata": {},
   "outputs": [],
   "source": [
    "# 0.5.13\n",
    "# [a,b] = [1,2,3]"
   ]
  },
  {
   "cell_type": "code",
   "execution_count": 31,
   "id": "e2215913-96c2-4706-8c66-9f25b742c644",
   "metadata": {},
   "outputs": [
    {
     "data": {
      "text/plain": [
       "[(0, 0, 0),\n",
       " (0, 2, -2),\n",
       " (0, -2, 2),\n",
       " (1, 1, -2),\n",
       " (1, -2, 1),\n",
       " (2, 0, -2),\n",
       " (2, 2, -4),\n",
       " (2, -4, 2),\n",
       " (2, -2, 0),\n",
       " (-4, 2, 2),\n",
       " (-2, 0, 2),\n",
       " (-2, 1, 1),\n",
       " (-2, 2, 0)]"
      ]
     },
     "execution_count": 31,
     "metadata": {},
     "output_type": "execute_result"
    }
   ],
   "source": [
    "# 0.5.14\n",
    "S = {-4,-2,1,2,5,0}\n",
    "[(i,j,k) for i in S for j in S for k in S if i+j+k == 0]"
   ]
  },
  {
   "cell_type": "code",
   "execution_count": 43,
   "id": "da2047f5-cf90-4622-b687-e6af3e436ffe",
   "metadata": {},
   "outputs": [
    {
     "data": {
      "text/plain": [
       "[(0, 2, -2),\n",
       " (0, -2, 2),\n",
       " (1, 1, -2),\n",
       " (1, -2, 1),\n",
       " (2, 0, -2),\n",
       " (2, 2, -4),\n",
       " (2, -4, 2),\n",
       " (2, -2, 0),\n",
       " (-4, 2, 2),\n",
       " (-2, 0, 2),\n",
       " (-2, 1, 1),\n",
       " (-2, 2, 0)]"
      ]
     },
     "execution_count": 43,
     "metadata": {},
     "output_type": "execute_result"
    }
   ],
   "source": [
    "# 0.5.15\n",
    "[(i,j,k) for i in S for j in S for k in S if i+j+k == 0 and (i*j!=0 or j*k!=0 or i*k!=0)]"
   ]
  },
  {
   "cell_type": "code",
   "execution_count": 44,
   "id": "8bbe502c-9775-4f13-8a5c-5e77f63cc930",
   "metadata": {},
   "outputs": [
    {
     "data": {
      "text/plain": [
       "(0, 2, -2)"
      ]
     },
     "execution_count": 44,
     "metadata": {},
     "output_type": "execute_result"
    }
   ],
   "source": [
    "# 0.5.16\n",
    "[(i,j,k) for i in S for j in S for k in S if i+j+k == 0 and (i*j!=0 or j*k!=0 or i*k!=0)][0]"
   ]
  },
  {
   "cell_type": "code",
   "execution_count": 50,
   "id": "52b45bab-5e61-465a-9f80-a26700c01bc3",
   "metadata": {},
   "outputs": [
    {
     "data": {
      "text/plain": [
       "True"
      ]
     },
     "execution_count": 50,
     "metadata": {},
     "output_type": "execute_result"
    }
   ],
   "source": [
    "# 0.5.17\n",
    "L = [1,2,3]\n",
    "len(L)==len(list(set(L)))"
   ]
  },
  {
   "cell_type": "code",
   "execution_count": 55,
   "id": "eb2e5a8f-a8bf-4b00-8f5b-77bfdca8f799",
   "metadata": {},
   "outputs": [
    {
     "data": {
      "text/plain": [
       "[1,\n",
       " 3,\n",
       " 5,\n",
       " 7,\n",
       " 9,\n",
       " 11,\n",
       " 13,\n",
       " 15,\n",
       " 17,\n",
       " 19,\n",
       " 21,\n",
       " 23,\n",
       " 25,\n",
       " 27,\n",
       " 29,\n",
       " 31,\n",
       " 33,\n",
       " 35,\n",
       " 37,\n",
       " 39,\n",
       " 41,\n",
       " 43,\n",
       " 45,\n",
       " 47,\n",
       " 49,\n",
       " 51,\n",
       " 53,\n",
       " 55,\n",
       " 57,\n",
       " 59,\n",
       " 61,\n",
       " 63,\n",
       " 65,\n",
       " 67,\n",
       " 69,\n",
       " 71,\n",
       " 73,\n",
       " 75,\n",
       " 77,\n",
       " 79,\n",
       " 81,\n",
       " 83,\n",
       " 85,\n",
       " 87,\n",
       " 89,\n",
       " 91,\n",
       " 93,\n",
       " 95,\n",
       " 97,\n",
       " 99]"
      ]
     },
     "execution_count": 55,
     "metadata": {},
     "output_type": "execute_result"
    }
   ],
   "source": [
    "# 0.5.18\n",
    "list(x for x in range(1,100) if x %2 !=0)"
   ]
  },
  {
   "cell_type": "code",
   "execution_count": 56,
   "id": "0152cde1-ff5a-4221-898c-b808b2677de7",
   "metadata": {},
   "outputs": [
    {
     "data": {
      "text/plain": [
       "[(0, 'A'), (1, 'B'), (2, 'C'), (3, 'D'), (4, 'E')]"
      ]
     },
     "execution_count": 56,
     "metadata": {},
     "output_type": "execute_result"
    }
   ],
   "source": [
    "# 0.5.19\n",
    "L = ['A','B','C','D','E']\n",
    "list(zip(list(range(5)),L))"
   ]
  },
  {
   "cell_type": "code",
   "execution_count": 59,
   "id": "29f3a5ca-b6e9-4813-85f4-54ae03b91864",
   "metadata": {},
   "outputs": [
    {
     "data": {
      "text/plain": [
       "[11, 40, 60]"
      ]
     },
     "execution_count": 59,
     "metadata": {},
     "output_type": "execute_result"
    }
   ],
   "source": [
    "# 0.5.20\n",
    "[sum(x) for x in zip([10,25,40],[1,15,20])]"
   ]
  },
  {
   "cell_type": "code",
   "execution_count": 60,
   "id": "c535f5b0-c59a-438c-a0c8-55ecd5301138",
   "metadata": {},
   "outputs": [
    {
     "data": {
      "text/plain": [
       "['Sean', 'Roger', 'Pierce']"
      ]
     },
     "execution_count": 60,
     "metadata": {},
     "output_type": "execute_result"
    }
   ],
   "source": [
    "# 0.5.21\n",
    "dlist = [{'James':'Sean', 'director':'Terence'}, {'James':'Roger',\n",
    "'director':'Lewis'}, {'James':'Pierce', 'director':'Roger'}]\n",
    "k = 'James'\n",
    "[d[k] for d in dlist]"
   ]
  },
  {
   "cell_type": "code",
   "execution_count": 69,
   "id": "2a6e4219-66d9-4faa-91ba-4c22d9c00a85",
   "metadata": {},
   "outputs": [
    {
     "data": {
      "text/plain": [
       "['Elijah']"
      ]
     },
     "execution_count": 69,
     "metadata": {},
     "output_type": "execute_result"
    }
   ],
   "source": [
    "# 0.5.22\n",
    "dlist = [{'Bilbo':'Ian','Frodo':'Elijah'},{'Bilbo':'Martin','Thorin':'Richard'}]\n",
    "k = 'Frodo'\n",
    "\n",
    "[d[k] for d in dlist if k in d]"
   ]
  },
  {
   "cell_type": "code",
   "execution_count": null,
   "id": "f621d35d-9ee3-4c1f-ba33-265159a362ad",
   "metadata": {},
   "outputs": [],
   "source": [
    "# 0.5.23\n",
    "{k:k**2 for k in range(100)}"
   ]
  },
  {
   "cell_type": "code",
   "execution_count": 87,
   "id": "c9b8d3c6-5c85-4585-87b5-692e20f1f2bb",
   "metadata": {},
   "outputs": [
    {
     "data": {
      "text/plain": [
       "{'red'}"
      ]
     },
     "execution_count": 87,
     "metadata": {},
     "output_type": "execute_result"
    }
   ],
   "source": [
    "# 0.5.24\n",
    "D = {'red','white,','yellow'}\n",
    "x ='red'\n",
    "{color for color in D if color==x}"
   ]
  },
  {
   "cell_type": "code",
   "execution_count": 112,
   "id": "d74f0457-4554-4e6b-84f8-5a5f21049506",
   "metadata": {},
   "outputs": [
    {
     "data": {
      "text/plain": [
       "{0: [0, 0, 0],\n",
       " 1: [0, 0, 1],\n",
       " 2: [0, 1, 0],\n",
       " 3: [0, 1, 1],\n",
       " 4: [1, 0, 0],\n",
       " 5: [1, 0, 1],\n",
       " 6: [1, 1, 0],\n",
       " 7: [1, 1, 1]}"
      ]
     },
     "execution_count": 112,
     "metadata": {},
     "output_type": "execute_result"
    }
   ],
   "source": [
    "# 0.5.25\n",
    "base = 2\n",
    "{k:[k//base**2,k%(base**2)//base,k%base] for k in range(base**3) }"
   ]
  },
  {
   "cell_type": "code",
   "execution_count": 122,
   "id": "3d1828d5-6ecb-4fc1-b683-494703eea77c",
   "metadata": {},
   "outputs": [
    {
     "data": {
      "text/plain": [
       "{'Larry': 1200.5, 'Curly': 1200.5, 'Moe': 1200.5}"
      ]
     },
     "execution_count": 122,
     "metadata": {},
     "output_type": "execute_result"
    }
   ],
   "source": [
    "# 0.5.26\n",
    "\n",
    "id2salary = {0:1000.0, 3:990, 1:1200.50}\n",
    "names = ['Larry', 'Curly', '', 'Moe']\n",
    "{k:v for k in names for v in id2salary.values() if k != ''}"
   ]
  },
  {
   "cell_type": "code",
   "execution_count": 129,
   "id": "958c3ac6-fb77-4e8c-93e2-ddeb2efb005d",
   "metadata": {},
   "outputs": [
    {
     "data": {
      "text/plain": [
       "'HaHa'"
      ]
     },
     "execution_count": 129,
     "metadata": {},
     "output_type": "execute_result"
    }
   ],
   "source": [
    "# 0.5.27\n",
    "def twice(z):return 2*z\n",
    "twice(\"Ha\")"
   ]
  },
  {
   "cell_type": "code",
   "execution_count": 131,
   "id": "68ab9f00-5b03-4d80-ae27-da8cc5ef25b0",
   "metadata": {},
   "outputs": [
    {
     "data": {
      "text/plain": [
       "[2, 6, 7]"
      ]
     },
     "execution_count": 131,
     "metadata": {},
     "output_type": "execute_result"
    }
   ],
   "source": [
    "# 0.5.28\n",
    "def nextInts(l):return [x+1 for x in l]\n",
    "nextInts([1,5,6])"
   ]
  },
  {
   "cell_type": "code",
   "execution_count": null,
   "id": "14964c75-ef31-4482-837e-6d5b2fe171e6",
   "metadata": {},
   "outputs": [],
   "source": [
    "# 0.5.29"
   ]
  },
  {
   "cell_type": "code",
   "execution_count": 134,
   "id": "b8b32634-1437-4bb9-a28f-f534b479ff30",
   "metadata": {},
   "outputs": [
    {
     "data": {
      "text/plain": [
       "['B', 'A']"
      ]
     },
     "execution_count": 134,
     "metadata": {},
     "output_type": "execute_result"
    }
   ],
   "source": [
    "# 0.5.30\n",
    "def dict2list(dct,keylist):return [dct[k] for k in keylist]\n",
    "dict2list({'a':'A','b':'B'},['b','a'])"
   ]
  },
  {
   "cell_type": "code",
   "execution_count": 150,
   "id": "0f8e774c-a560-4ca1-8b2e-daa68d640044",
   "metadata": {},
   "outputs": [
    {
     "data": {
      "text/plain": [
       "{'A': 'a', 'B': 'b', 'D': 'd'}"
      ]
     },
     "execution_count": 150,
     "metadata": {},
     "output_type": "execute_result"
    }
   ],
   "source": [
    "# 0.5.31\n",
    "def dict2list(L,keylist):return {k:v for (k,v) in zip(L,keylist)}\n",
    "dict2list(['A','B','D'],['a','b','d'])"
   ]
  },
  {
   "cell_type": "code",
   "execution_count": 4,
   "id": "c500d5a1-b620-4985-9fe7-c83d96c1d229",
   "metadata": {},
   "outputs": [
    {
     "data": {
      "text/plain": [
       "{0, 1, 2, 3, 4, 5, 6, 7}"
      ]
     },
     "execution_count": 4,
     "metadata": {},
     "output_type": "execute_result"
    }
   ],
   "source": [
    "# 0.5.32\n",
    "def all_3_digit_numbers(base,digits): return {k for k in range(base**3)}\n",
    "all_3_digit_numbers(2,{0,1})"
   ]
  }
 ],
 "metadata": {
  "kernelspec": {
   "display_name": "Python 3",
   "language": "python",
   "name": "python3"
  },
  "language_info": {
   "codemirror_mode": {
    "name": "ipython",
    "version": 3
   },
   "file_extension": ".py",
   "mimetype": "text/x-python",
   "name": "python",
   "nbconvert_exporter": "python",
   "pygments_lexer": "ipython3",
   "version": "3.9.2"
  }
 },
 "nbformat": 4,
 "nbformat_minor": 5
}
